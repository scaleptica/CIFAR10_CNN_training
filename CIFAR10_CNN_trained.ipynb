{
  "nbformat": 4,
  "nbformat_minor": 0,
  "metadata": {
    "colab": {
      "name": "CIFAR10",
      "provenance": [],
      "collapsed_sections": []
    },
    "kernelspec": {
      "name": "python3",
      "display_name": "Python 3"
    },
    "language_info": {
      "name": "python"
    }
  },
  "cells": [
    {
      "cell_type": "code",
      "execution_count": 20,
      "metadata": {
        "id": "qfwOu3ft6l6E"
      },
      "outputs": [],
      "source": [
        "import tensorflow as tf\n",
        "from keras import datasets, layers, models\n",
        "import matplotlib.pyplot as plt\n",
        "import numpy as np"
      ]
    },
    {
      "cell_type": "code",
      "source": [
        "(x_train, y_train), (x_test, y_test) = datasets.cifar10.load_data()\n",
        "x_train.shape"
      ],
      "metadata": {
        "colab": {
          "base_uri": "https://localhost:8080/"
        },
        "id": "3MqlEVqq6cTF",
        "outputId": "24864620-df3c-4f30-d8f1-d475446132bb"
      },
      "execution_count": 21,
      "outputs": [
        {
          "output_type": "execute_result",
          "data": {
            "text/plain": [
              "(50000, 32, 32, 3)"
            ]
          },
          "metadata": {},
          "execution_count": 21
        }
      ]
    },
    {
      "cell_type": "code",
      "source": [
        "x_test.shape"
      ],
      "metadata": {
        "colab": {
          "base_uri": "https://localhost:8080/"
        },
        "id": "g7Dy4JIo7Oxl",
        "outputId": "81f7a9d7-ba51-4cba-cd3e-a77d4ae54c6e"
      },
      "execution_count": 22,
      "outputs": [
        {
          "output_type": "execute_result",
          "data": {
            "text/plain": [
              "(10000, 32, 32, 3)"
            ]
          },
          "metadata": {},
          "execution_count": 22
        }
      ]
    },
    {
      "cell_type": "code",
      "source": [
        "y_train.shape"
      ],
      "metadata": {
        "id": "WoCjxGmxj3hu",
        "colab": {
          "base_uri": "https://localhost:8080/"
        },
        "outputId": "bdf7f035-ec0e-4e5b-cac2-39b633095e89"
      },
      "execution_count": 23,
      "outputs": [
        {
          "output_type": "execute_result",
          "data": {
            "text/plain": [
              "(50000, 1)"
            ]
          },
          "metadata": {},
          "execution_count": 23
        }
      ]
    },
    {
      "cell_type": "code",
      "source": [
        "y_train[:5]"
      ],
      "metadata": {
        "colab": {
          "base_uri": "https://localhost:8080/"
        },
        "id": "Vjk-VmH9xcHF",
        "outputId": "fd558671-d31f-4899-ecdb-2f331d2af04f"
      },
      "execution_count": 24,
      "outputs": [
        {
          "output_type": "execute_result",
          "data": {
            "text/plain": [
              "array([[6],\n",
              "       [9],\n",
              "       [9],\n",
              "       [4],\n",
              "       [1]], dtype=uint8)"
            ]
          },
          "metadata": {},
          "execution_count": 24
        }
      ]
    },
    {
      "cell_type": "code",
      "source": [
        "y_train = y_train.reshape(-1, )\n",
        "y_train[:5]"
      ],
      "metadata": {
        "colab": {
          "base_uri": "https://localhost:8080/"
        },
        "id": "fHCRhl8QxmKc",
        "outputId": "6cc83e43-f000-4b54-a474-910a4729bfe2"
      },
      "execution_count": 25,
      "outputs": [
        {
          "output_type": "execute_result",
          "data": {
            "text/plain": [
              "array([6, 9, 9, 4, 1], dtype=uint8)"
            ]
          },
          "metadata": {},
          "execution_count": 25
        }
      ]
    },
    {
      "cell_type": "code",
      "source": [
        "classes = [\"airplane\",\"automobile\",\"bird\",\"cat\",\"deer\",\"dog\",\"frog\",\"horse\",\"ship\",\"truck\"]"
      ],
      "metadata": {
        "id": "jDGb26_FyOpT"
      },
      "execution_count": 26,
      "outputs": []
    },
    {
      "cell_type": "code",
      "source": [
        "classes[9]"
      ],
      "metadata": {
        "colab": {
          "base_uri": "https://localhost:8080/",
          "height": 36
        },
        "id": "La1DQAMFyTr7",
        "outputId": "8452485f-b96e-4982-87f7-5f1b43942bf6"
      },
      "execution_count": 27,
      "outputs": [
        {
          "output_type": "execute_result",
          "data": {
            "text/plain": [
              "'truck'"
            ],
            "application/vnd.google.colaboratory.intrinsic+json": {
              "type": "string"
            }
          },
          "metadata": {},
          "execution_count": 27
        }
      ]
    },
    {
      "cell_type": "code",
      "source": [
        "def plot_sample(X, y, index):\n",
        "    plt.figure(figsize = (15,2))\n",
        "    plt.imshow(X[index])\n",
        "    plt.xlabel(classes[y[index]])"
      ],
      "metadata": {
        "id": "UjRPANXSyklc"
      },
      "execution_count": 28,
      "outputs": []
    },
    {
      "cell_type": "code",
      "source": [
        "plot_sample(x_train, y_train, 5)"
      ],
      "metadata": {
        "colab": {
          "base_uri": "https://localhost:8080/",
          "height": 173
        },
        "id": "d6v3LkDYywny",
        "outputId": "b5a441fd-d69e-4a37-996c-02ea8fea36eb"
      },
      "execution_count": 29,
      "outputs": [
        {
          "output_type": "display_data",
          "data": {
            "text/plain": [
              "<Figure size 1080x144 with 1 Axes>"
            ],
            "image/png": "[encoded data removed]"
          },
          "metadata": {
            "needs_background": "light"
          }
        }
      ]
    },
    {
      "cell_type": "code",
      "source": [
        "x_train = x_train/255.0\n",
        "x_test = x_test/255.0"
      ],
      "metadata": {
        "id": "G53texJTzJRj"
      },
      "execution_count": 30,
      "outputs": []
    },
    {
      "cell_type": "code",
      "source": [
        "ann = models.Sequential([   #this is the code for an artificial neural network\n",
        "        layers.Flatten(input_shape=(32,32,3)), #first layer that will accept data of dimension 32*32*3\n",
        "        layers.Dense(3000, activation='relu'), #second layer, with 3000 neurons and using the activation function rel-u\n",
        "        layers.Dense(1000, activation='relu'), #third layer, with 1000 neurons and using the activation function rel-u\n",
        "        layers.Dense(10, activation='softmax') #fourth layer is the output layer, as there are 10 categories, it has 10 neurons,\n",
        "                                               #and the activation function used is softmax function\n",
        "    ])\n",
        "\n",
        "ann.compile(optimizer='SGD',    #The optimizer used is Stochastic Gradient Descent.\n",
        "              loss='sparse_categorical_crossentropy', #this is the loss function (like 'mean square error'), when 'y' is 1-hot-encoded, \n",
        "                                                      #then we use categorical_crossentropy, else we use sparse_categorical_crossentropy (y is in the form 0-9)\n",
        "              metrics=['accuracy'])                   #Metrics are used to monitor and measure the performance of a model. \n",
        "                                                      #Here the performace of the NN is measured by calculating the accuracy.\n",
        "\n",
        "ann.fit(x_train, y_train, epochs=5)"
      ],
      "metadata": {
        "colab": {
          "base_uri": "https://localhost:8080/"
        },
        "id": "9Y2q20H3zVTB",
        "outputId": "b5c6552f-4e88-4f22-9d27-384375626be9"
      },
      "execution_count": 31,
      "outputs": [
        {
          "output_type": "stream",
          "name": "stdout",
          "text": [
            "Epoch 1/5\n",
            "1563/1563 [==============================] - 111s 71ms/step - loss: 1.8129 - accuracy: 0.3545\n",
            "Epoch 2/5\n",
            "1563/1563 [==============================] - 115s 73ms/step - loss: 1.6225 - accuracy: 0.4275\n",
            "Epoch 3/5\n",
            "1563/1563 [==============================] - 101s 65ms/step - loss: 1.5425 - accuracy: 0.4538\n",
            "Epoch 4/5\n",
            "1563/1563 [==============================] - 101s 65ms/step - loss: 1.4816 - accuracy: 0.4773\n",
            "Epoch 5/5\n",
            "1563/1563 [==============================] - 102s 65ms/step - loss: 1.4313 - accuracy: 0.4962\n"
          ]
        },
        {
          "output_type": "execute_result",
          "data": {
            "text/plain": [
              "<keras.callbacks.History at 0x7f386dc6b190>"
            ]
          },
          "metadata": {},
          "execution_count": 31
        }
      ]
    },
    {
      "cell_type": "code",
      "source": [
        "ann.evaluate(x_test, y_test)"
      ],
      "metadata": {
        "colab": {
          "base_uri": "https://localhost:8080/"
        },
        "id": "mSMgBSfA0Vjl",
        "outputId": "faa7a834-5112-4b9e-a5d7-0ccd6b80076c"
      },
      "execution_count": 32,
      "outputs": [
        {
          "output_type": "stream",
          "name": "stdout",
          "text": [
            "313/313 [==============================] - 9s 27ms/step - loss: 1.4727 - accuracy: 0.4677\n"
          ]
        },
        {
          "output_type": "execute_result",
          "data": {
            "text/plain": [
              "[1.4726941585540771, 0.4677000045776367]"
            ]
          },
          "metadata": {},
          "execution_count": 32
        }
      ]
    },
    {
      "cell_type": "code",
      "source": [
        "from sklearn.metrics import confusion_matrix , classification_report\n",
        "import numpy as np\n",
        "y_pred = ann.predict(x_test)\n",
        "y_pred_classes = [np.argmax(element) for element in y_pred]\n",
        "\n",
        "print(\"Classification Report: \\n\", classification_report(y_test, y_pred_classes))"
      ],
      "metadata": {
        "colab": {
          "base_uri": "https://localhost:8080/"
        },
        "id": "0lNTkYKG9cE7",
        "outputId": "e75ef136-363e-4d25-998d-016604073c8b"
      },
      "execution_count": 33,
      "outputs": [
        {
          "output_type": "stream",
          "name": "stdout",
          "text": [
            "Classification Report: \n",
            "               precision    recall  f1-score   support\n",
            "\n",
            "           0       0.69      0.35      0.46      1000\n",
            "           1       0.46      0.80      0.58      1000\n",
            "           2       0.36      0.34      0.35      1000\n",
            "           3       0.39      0.18      0.24      1000\n",
            "           4       0.50      0.29      0.37      1000\n",
            "           5       0.41      0.37      0.39      1000\n",
            "           6       0.36      0.78      0.49      1000\n",
            "           7       0.63      0.49      0.55      1000\n",
            "           8       0.56      0.67      0.61      1000\n",
            "           9       0.60      0.41      0.48      1000\n",
            "\n",
            "    accuracy                           0.47     10000\n",
            "   macro avg       0.49      0.47      0.45     10000\n",
            "weighted avg       0.49      0.47      0.45     10000\n",
            "\n"
          ]
        }
      ]
    },
    {
      "cell_type": "code",
      "source": [
        "cnn = models.Sequential([\n",
        "                         layers.Conv2D(filters=64, kernel_size=(3,3), activation='relu', input_shape=(32,32,3)),\n",
        "                         layers.MaxPooling2D((2,2)),\n",
        "\n",
        "                         layers.Conv2D(filters=128, kernel_size=(3,3), activation='relu'),\n",
        "                         layers.MaxPooling2D((2,2)),\n",
        "\n",
        "                         layers.Flatten(),\n",
        "                         layers.Dense(64, activation='relu'),\n",
        "                         layers.Dense(10, activation='softmax')\n",
        "])"
      ],
      "metadata": {
        "id": "TOvgj1XW-8rw"
      },
      "execution_count": 40,
      "outputs": []
    },
    {
      "cell_type": "code",
      "source": [
        "cnn.compile(optimizer='adam', loss='sparse_categorical_crossentropy', metrics=['accuracy'])"
      ],
      "metadata": {
        "id": "jfRqC9EVBrKA"
      },
      "execution_count": 42,
      "outputs": []
    },
    {
      "cell_type": "code",
      "source": [
        "cnn.fit(x_train, y_train, epochs=10)"
      ],
      "metadata": {
        "colab": {
          "base_uri": "https://localhost:8080/"
        },
        "id": "O3XpF-0FC7ca",
        "outputId": "4d2eaf2c-ed71-497f-97eb-5d674fa5f193"
      },
      "execution_count": 43,
      "outputs": [
        {
          "output_type": "stream",
          "name": "stdout",
          "text": [
            "Epoch 1/10\n",
            "1563/1563 [==============================] - 139s 88ms/step - loss: 1.4839 - accuracy: 0.4680\n",
            "Epoch 2/10\n",
            "1563/1563 [==============================] - 139s 89ms/step - loss: 1.1031 - accuracy: 0.6131\n",
            "Epoch 3/10\n",
            "1563/1563 [==============================] - 138s 88ms/step - loss: 0.9688 - accuracy: 0.6625\n",
            "Epoch 4/10\n",
            "1563/1563 [==============================] - 139s 89ms/step - loss: 0.8819 - accuracy: 0.6935\n",
            "Epoch 5/10\n",
            "1563/1563 [==============================] - 139s 89ms/step - loss: 0.8180 - accuracy: 0.7158\n",
            "Epoch 6/10\n",
            "1563/1563 [==============================] - 138s 88ms/step - loss: 0.7682 - accuracy: 0.7328\n",
            "Epoch 7/10\n",
            "1563/1563 [==============================] - 139s 89ms/step - loss: 0.7207 - accuracy: 0.7481\n",
            "Epoch 8/10\n",
            "1563/1563 [==============================] - 138s 88ms/step - loss: 0.6762 - accuracy: 0.7632\n",
            "Epoch 9/10\n",
            "1563/1563 [==============================] - 138s 88ms/step - loss: 0.6444 - accuracy: 0.7747\n",
            "Epoch 10/10\n",
            "1563/1563 [==============================] - 138s 88ms/step - loss: 0.6141 - accuracy: 0.7854\n"
          ]
        },
        {
          "output_type": "execute_result",
          "data": {
            "text/plain": [
              "<keras.callbacks.History at 0x7f3868d92550>"
            ]
          },
          "metadata": {},
          "execution_count": 43
        }
      ]
    },
    {
      "cell_type": "code",
      "source": [
        "cnn.evaluate(x_test, y_test)"
      ],
      "metadata": {
        "colab": {
          "base_uri": "https://localhost:8080/"
        },
        "id": "i2GGbGovDIuS",
        "outputId": "14da83fc-afca-4ac0-8bc4-d3b3936657f5"
      },
      "execution_count": 44,
      "outputs": [
        {
          "output_type": "stream",
          "name": "stdout",
          "text": [
            "313/313 [==============================] - 11s 34ms/step - loss: 0.9408 - accuracy: 0.6884\n"
          ]
        },
        {
          "output_type": "execute_result",
          "data": {
            "text/plain": [
              "[0.9408311247825623, 0.6883999705314636]"
            ]
          },
          "metadata": {},
          "execution_count": 44
        }
      ]
    },
    {
      "cell_type": "code",
      "source": [
        "y_pred=cnn.predict(x_test)"
      ],
      "metadata": {
        "id": "ir2PPSIWJcVk"
      },
      "execution_count": 45,
      "outputs": []
    },
    {
      "cell_type": "code",
      "source": [
        "y_pred[:5]"
      ],
      "metadata": {
        "colab": {
          "base_uri": "https://localhost:8080/"
        },
        "id": "bxUEm44oJoUS",
        "outputId": "9c8cbeb1-7530-45ac-b8e4-a283576bfd1f"
      },
      "execution_count": 46,
      "outputs": [
        {
          "output_type": "execute_result",
          "data": {
            "text/plain": [
              "array([[2.5744038e-03, 1.0112454e-02, 9.2422049e-03, 6.5422833e-01,\n",
              "        1.5957862e-04, 1.5817067e-02, 1.0539292e-02, 3.0399745e-04,\n",
              "        2.9652268e-01, 4.9993891e-04],\n",
              "       [2.9220660e-03, 1.1067229e-02, 4.0387799e-06, 2.6504324e-06,\n",
              "        3.8970219e-07, 1.2657318e-07, 4.2811070e-07, 2.0072474e-07,\n",
              "        9.8177379e-01, 4.2291596e-03],\n",
              "       [5.6905288e-02, 9.4508834e-02, 2.0657389e-03, 2.3572549e-02,\n",
              "        5.2075279e-03, 1.4407538e-03, 2.7287095e-03, 2.6886720e-02,\n",
              "        5.4484099e-01, 2.4184297e-01],\n",
              "       [4.0852743e-01, 1.0918516e-03, 2.4219850e-02, 1.4471133e-04,\n",
              "        7.9862038e-03, 5.7361544e-06, 2.4646448e-05, 1.5135778e-02,\n",
              "        5.4272401e-01, 1.3981618e-04],\n",
              "       [1.2123431e-07, 2.6625119e-06, 6.9424654e-03, 4.5996144e-02,\n",
              "        1.7674701e-02, 2.8868970e-03, 9.2648566e-01, 7.7256396e-07,\n",
              "        1.0253221e-05, 2.4280033e-07]], dtype=float32)"
            ]
          },
          "metadata": {},
          "execution_count": 46
        }
      ]
    },
    {
      "cell_type": "code",
      "source": [
        "y_test[:5]"
      ],
      "metadata": {
        "colab": {
          "base_uri": "https://localhost:8080/"
        },
        "id": "09c9bo01Jt-7",
        "outputId": "b5321346-0723-49cf-f009-0f00f7d313de"
      },
      "execution_count": 47,
      "outputs": [
        {
          "output_type": "execute_result",
          "data": {
            "text/plain": [
              "array([[3],\n",
              "       [8],\n",
              "       [8],\n",
              "       [0],\n",
              "       [6]], dtype=uint8)"
            ]
          },
          "metadata": {},
          "execution_count": 47
        }
      ]
    },
    {
      "cell_type": "code",
      "source": [
        "y_test = y_test.reshape(-1,)"
      ],
      "metadata": {
        "id": "dJAue-B2KIC1"
      },
      "execution_count": 48,
      "outputs": []
    },
    {
      "cell_type": "code",
      "source": [
        "y_test[:5]"
      ],
      "metadata": {
        "colab": {
          "base_uri": "https://localhost:8080/"
        },
        "id": "Bovb4oUWKOHg",
        "outputId": "dc50154d-ae0b-4c99-8edd-ef448257088b"
      },
      "execution_count": 49,
      "outputs": [
        {
          "output_type": "execute_result",
          "data": {
            "text/plain": [
              "array([3, 8, 8, 0, 6], dtype=uint8)"
            ]
          },
          "metadata": {},
          "execution_count": 49
        }
      ]
    },
    {
      "cell_type": "code",
      "source": [
        "plot_sample(x_test, y_test, 1)"
      ],
      "metadata": {
        "colab": {
          "base_uri": "https://localhost:8080/",
          "height": 173
        },
        "id": "shA2d-bZKSVn",
        "outputId": "1d6228d6-a988-4aef-ffb3-45fdbfee44bd"
      },
      "execution_count": 50,
      "outputs": [
        {
          "output_type": "display_data",
          "data": {
            "text/plain": [
              "<Figure size 1080x144 with 1 Axes>"
            ],
            "image/png": "[encoded data removed]"
          },
          "metadata": {
            "needs_background": "light"
          }
        }
      ]
    },
    {
      "cell_type": "code",
      "source": [
        "np.argmax([16, 45, 33, 22]) #returns index of the largest element"
      ],
      "metadata": {
        "colab": {
          "base_uri": "https://localhost:8080/"
        },
        "id": "vTDEU5E6KYvj",
        "outputId": "34d54477-8e6e-4653-9f2d-77767c5c2200"
      },
      "execution_count": 51,
      "outputs": [
        {
          "output_type": "execute_result",
          "data": {
            "text/plain": [
              "1"
            ]
          },
          "metadata": {},
          "execution_count": 51
        }
      ]
    },
    {
      "cell_type": "code",
      "source": [
        "y_classes = [np.argmax(element) for element in y_pred]  #computing argmax for all elements of y_pred"
      ],
      "metadata": {
        "id": "7hkrviS2K6Q7"
      },
      "execution_count": 52,
      "outputs": []
    },
    {
      "cell_type": "code",
      "source": [
        "y_classes[:5]"
      ],
      "metadata": {
        "colab": {
          "base_uri": "https://localhost:8080/"
        },
        "id": "QhVTAEukLUcL",
        "outputId": "05d3cd9f-d56d-467c-cec0-7dbec3b013d7"
      },
      "execution_count": 53,
      "outputs": [
        {
          "output_type": "execute_result",
          "data": {
            "text/plain": [
              "[3, 8, 8, 8, 6]"
            ]
          },
          "metadata": {},
          "execution_count": 53
        }
      ]
    },
    {
      "cell_type": "code",
      "source": [
        "y_test[:5]"
      ],
      "metadata": {
        "colab": {
          "base_uri": "https://localhost:8080/"
        },
        "id": "_MvGlSWTLaWW",
        "outputId": "81e24e06-5ac0-4c33-c88b-5e0437e264e0"
      },
      "execution_count": 55,
      "outputs": [
        {
          "output_type": "execute_result",
          "data": {
            "text/plain": [
              "array([3, 8, 8, 0, 6], dtype=uint8)"
            ]
          },
          "metadata": {},
          "execution_count": 54
        },
        {
          "output_type": "execute_result",
          "data": {
            "text/plain": [
              "array([3, 8, 8, 0, 6], dtype=uint8)"
            ]
          },
          "metadata": {},
          "execution_count": 55
        }
      ]
    },
    {
      "cell_type": "markdown",
      "source": [
        "Now you can see that y_classes (that contains the labels of x_test images predicted by the model) and y_test have very little difference."
      ],
      "metadata": {
        "id": "gHoYOfN1LoyE"
      }
    },
    {
      "cell_type": "code",
      "source": [
        "plot_sample(x_test, y_test, 5)"
      ],
      "metadata": {
        "colab": {
          "base_uri": "https://localhost:8080/",
          "height": 173
        },
        "id": "UkjP4kTDMLAb",
        "outputId": "2594f261-cde9-4262-a76b-05ca8c3f0d48"
      },
      "execution_count": 58,
      "outputs": [
        {
          "output_type": "display_data",
          "data": {
            "text/plain": [
              "<Figure size 1080x144 with 1 Axes>"
            ],
            "image/png": "[encoded data removed]"
          },
          "metadata": {
            "needs_background": "light"
          }
        }
      ]
    },
    {
      "cell_type": "code",
      "source": [
        "classes[y_classes[5]]"
      ],
      "metadata": {
        "colab": {
          "base_uri": "https://localhost:8080/",
          "height": 36
        },
        "id": "S3uQArADMOuG",
        "outputId": "2307387f-fb2c-4f1b-f7fd-4e023d6dd7d1"
      },
      "execution_count": 59,
      "outputs": [
        {
          "output_type": "execute_result",
          "data": {
            "text/plain": [
              "'frog'"
            ],
            "application/vnd.google.colaboratory.intrinsic+json": {
              "type": "string"
            }
          },
          "metadata": {},
          "execution_count": 59
        }
      ]
    },
    {
      "cell_type": "code",
      "source": [
        "print(\"classification report \\n\", classification_report(y_test, y_classes))"
      ],
      "metadata": {
        "colab": {
          "base_uri": "https://localhost:8080/"
        },
        "id": "eLMyDhKBMm-8",
        "outputId": "829a3291-a0c6-4ba9-9b46-5dde2319ca4a"
      },
      "execution_count": 60,
      "outputs": [
        {
          "output_type": "stream",
          "name": "stdout",
          "text": [
            "classification report \n",
            "               precision    recall  f1-score   support\n",
            "\n",
            "           0       0.77      0.68      0.72      1000\n",
            "           1       0.87      0.78      0.82      1000\n",
            "           2       0.67      0.51      0.58      1000\n",
            "           3       0.52      0.53      0.53      1000\n",
            "           4       0.63      0.59      0.61      1000\n",
            "           5       0.65      0.54      0.59      1000\n",
            "           6       0.77      0.75      0.76      1000\n",
            "           7       0.57      0.86      0.69      1000\n",
            "           8       0.79      0.82      0.80      1000\n",
            "           9       0.72      0.83      0.77      1000\n",
            "\n",
            "    accuracy                           0.69     10000\n",
            "   macro avg       0.70      0.69      0.69     10000\n",
            "weighted avg       0.70      0.69      0.69     10000\n",
            "\n"
          ]
        }
      ]
    }
  ]
}